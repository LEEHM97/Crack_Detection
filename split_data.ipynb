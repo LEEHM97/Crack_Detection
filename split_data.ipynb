{
 "cells": [
  {
   "cell_type": "code",
   "execution_count": 33,
   "metadata": {},
   "outputs": [],
   "source": [
    "import os\n",
    "import splitfolders\n",
    "import shutil\n",
    "from PIL import Image"
   ]
  },
  {
   "cell_type": "code",
   "execution_count": 64,
   "metadata": {},
   "outputs": [],
   "source": [
    "path = \"C:/Users/gmlkd/OneDrive/바탕 화면/CRACK500/valdata/\"\n",
    "image_path = \"C:/Users/gmlkd/OneDrive/바탕 화면/CRACK500/valdata/images/\"\n",
    "mask_path = \"C:/Users/gmlkd/OneDrive/바탕 화면/CRACK500/valdata/masks/\"\n",
    "\n",
    "file_list = os.listdir(path)"
   ]
  },
  {
   "cell_type": "code",
   "execution_count": 65,
   "metadata": {},
   "outputs": [
    {
     "data": {
      "text/plain": [
       "'20160222_165402.jpg'"
      ]
     },
     "execution_count": 65,
     "metadata": {},
     "output_type": "execute_result"
    }
   ],
   "source": [
    "file_list[10]"
   ]
  },
  {
   "cell_type": "code",
   "execution_count": 66,
   "metadata": {},
   "outputs": [],
   "source": [
    "jpg_lst = (\".jpg\",\".JPG\")\n",
    "png_lst = (\".png\", \".PNG\")\n",
    "txt_lst = (\".txt\", \".TXT\")\n",
    "\n",
    "for file in file_list:\n",
    "    if file.endswith(jpg_lst):\n",
    "        shutil.move(path+file, image_path+file)\n",
    "    elif file.endswith(png_lst):\n",
    "        shutil.move(path+file, mask_path+file)\n",
    "    elif file.endswith(txt_lst):\n",
    "        os.remove(path+file)"
   ]
  },
  {
   "cell_type": "code",
   "execution_count": 61,
   "metadata": {},
   "outputs": [],
   "source": [
    "img = Image.open(path+file_list[5])\n",
    "img.show()"
   ]
  },
  {
   "cell_type": "code",
   "execution_count": 62,
   "metadata": {},
   "outputs": [],
   "source": []
  }
 ],
 "metadata": {
  "kernelspec": {
   "display_name": "Python 3.8.13 ('usePytorch')",
   "language": "python",
   "name": "python3"
  },
  "language_info": {
   "codemirror_mode": {
    "name": "ipython",
    "version": 3
   },
   "file_extension": ".py",
   "mimetype": "text/x-python",
   "name": "python",
   "nbconvert_exporter": "python",
   "pygments_lexer": "ipython3",
   "version": "3.8.13"
  },
  "orig_nbformat": 4,
  "vscode": {
   "interpreter": {
    "hash": "d67afed350c528055f2528b65dcee38560ce04848f0ceec4c78743b97b05f9fe"
   }
  }
 },
 "nbformat": 4,
 "nbformat_minor": 2
}

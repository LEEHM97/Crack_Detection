{
 "cells": [
  {
   "cell_type": "code",
   "execution_count": 1,
   "metadata": {},
   "outputs": [],
   "source": [
    "import os\n",
    "import splitfolders\n",
    "import shutil\n",
    "from PIL import Image\n",
    "import cv2\n",
    "import matplotlib.pyplot as plt"
   ]
  },
  {
   "cell_type": "code",
   "execution_count": 15,
   "metadata": {},
   "outputs": [
    {
     "data": {
      "text/plain": [
       "400"
      ]
     },
     "execution_count": 15,
     "metadata": {},
     "output_type": "execute_result"
    }
   ],
   "source": [
    "path = \"../testsets/\"\n",
    "\n",
    "file_list = os.listdir(path)\n",
    "len(file_list)"
   ]
  },
  {
   "cell_type": "code",
   "execution_count": 7,
   "metadata": {},
   "outputs": [
    {
     "data": {
      "text/plain": [
       "(1440, 2560, 3)"
      ]
     },
     "execution_count": 7,
     "metadata": {},
     "output_type": "execute_result"
    }
   ],
   "source": [
    "img = cv2.imread(path+file_list[11])\n",
    "img.shape"
   ]
  },
  {
   "cell_type": "code",
   "execution_count": null,
   "metadata": {},
   "outputs": [],
   "source": [
    "for file in file_list:\n",
    "    if file.endswith(\".JPG\"):\n",
    "        img = cv2.imread(path+file)\n",
    "        os.remove(path+file)\n",
    "        cv2.imwrite(path+file.split(\".\")[0]+\".jpg\", img)\n"
   ]
  },
  {
   "cell_type": "code",
   "execution_count": null,
   "metadata": {},
   "outputs": [],
   "source": [
    "# img, mask 나누기\n",
    "jpg_lst = (\".jpg\",\".JPG\")\n",
    "png_lst = (\".png\", \".PNG\")\n",
    "txt_lst = (\".txt\", \".TXT\")\n",
    "\n",
    "for file in file_list:\n",
    "    img = cv2.imread(path+file)\n",
    "    h,w,c = img.shape\n",
    "    \n",
    "    if file.endswith(png_lst):\n",
    "        if h == 2560:\n",
    "            new_img = cv2.rotate(img, cv2.ROTATE_90_COUNTERCLOCKWISE)\n",
    "            os.remove(path+file)\n",
    "            cv2.imwrite(path+file, new_img)\n",
    "        elif h!= 2560 and h!= 1440:\n",
    "            os.remove(path+file)\n",
    "            print(f'{file} removed')"
   ]
  },
  {
   "cell_type": "code",
   "execution_count": 62,
   "metadata": {},
   "outputs": [],
   "source": []
  }
 ],
 "metadata": {
  "kernelspec": {
   "display_name": "Python 3.8.13 ('usePytorch')",
   "language": "python",
   "name": "python3"
  },
  "language_info": {
   "codemirror_mode": {
    "name": "ipython",
    "version": 3
   },
   "file_extension": ".py",
   "mimetype": "text/x-python",
   "name": "python",
   "nbconvert_exporter": "python",
   "pygments_lexer": "ipython3",
   "version": "3.8.13"
  },
  "orig_nbformat": 4,
  "vscode": {
   "interpreter": {
    "hash": "d67afed350c528055f2528b65dcee38560ce04848f0ceec4c78743b97b05f9fe"
   }
  }
 },
 "nbformat": 4,
 "nbformat_minor": 2
}

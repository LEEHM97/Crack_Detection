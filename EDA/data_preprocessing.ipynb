{
 "cells": [
  {
   "cell_type": "code",
   "execution_count": 25,
   "metadata": {},
   "outputs": [],
   "source": [
    "import os\n",
    "import splitfolders\n",
    "import shutil\n",
    "from PIL import Image\n",
    "import cv2\n",
    "import matplotlib.pyplot as plt"
   ]
  },
  {
   "cell_type": "code",
   "execution_count": 111,
   "metadata": {},
   "outputs": [
    {
     "name": "stdout",
     "output_type": "stream",
     "text": [
      "635 635\n"
     ]
    }
   ],
   "source": [
    "image_path = \"../Datasets/Train/images/\"\n",
    "mask_path = \"../Datasets/Train/masks/\"\n",
    "\n",
    "image_list = os.listdir(image_path)\n",
    "mask_list = os.listdir(mask_path)\n",
    "\n",
    "image_list = sorted([str(p) for p in image_list])\n",
    "mask_list = sorted([str(p) for p in mask_list])\n",
    "\n",
    "print(len(image_list), len(mask_list))"
   ]
  },
  {
   "cell_type": "code",
   "execution_count": 122,
   "metadata": {},
   "outputs": [
    {
     "name": "stdout",
     "output_type": "stream",
     "text": [
      "11275-2.jpg\n",
      "11275-2.png\n"
     ]
    }
   ],
   "source": [
    "idx =250\n",
    "print(image_list[idx])\n",
    "print(mask_list[idx])"
   ]
  },
  {
   "cell_type": "code",
   "execution_count": 110,
   "metadata": {},
   "outputs": [],
   "source": [
    "# remove \"_label\", \"_mask\"\n",
    "\n",
    "for file in mask_list:\n",
    "    img = cv2.imread(mask_path + file)\n",
    "    \n",
    "    name = file.split(\".\")[0]\n",
    "    if name.endswith(\"_mask\"):\n",
    "        os.remove(mask_path + file)\n",
    "        cv2.imwrite(mask_path + name.split(\"_mask\")[0] + \".png\", img)\n",
    "        \n",
    "    elif name.endswith(\"_label\"):\n",
    "        os.remove(mask_path + file)\n",
    "        cv2.imwrite(mask_path + name.split(\"_label\")[0] + \".png\", img)"
   ]
  },
  {
   "cell_type": "code",
   "execution_count": 28,
   "metadata": {},
   "outputs": [],
   "source": [
    "# JPG to jpg\n",
    "for file in image_list:\n",
    "    if file.endswith(\".JPG\"):\n",
    "        print(file)\n",
    "        \n",
    "# PNG to png\n",
    "for file in mask_list:\n",
    "    if file.endswith(\".PNG\"):\n",
    "        img = cv2.imread(mask_path + file)\n",
    "        os.remove(mask_path + file)\n",
    "        cv2.imwrite(mask_path + file.split(\".\")[0]+\".png\",img)\n"
   ]
  },
  {
   "cell_type": "code",
   "execution_count": 7,
   "metadata": {},
   "outputs": [
    {
     "name": "stdout",
     "output_type": "stream",
     "text": [
      "IMG_2931_mask.png removed\n",
      "IMG_2941_mask.png removed\n",
      "IMG_2942_mask.png removed\n"
     ]
    }
   ],
   "source": [
    "# rotate and delete\n",
    "jpg_lst = (\".jpg\",\".JPG\")\n",
    "png_lst = (\".png\", \".PNG\")\n",
    "txt_lst = (\".txt\", \".TXT\")\n",
    "\n",
    "for file in file_list:\n",
    "    img = cv2.imread(path+file)\n",
    "    h,w,c = img.shape\n",
    "    \n",
    "    if file.endswith(png_lst):\n",
    "        if h == 2560:\n",
    "            new_img = cv2.rotate(img, cv2.ROTATE_90_COUNTERCLOCKWISE)\n",
    "            os.remove(path+file)\n",
    "            cv2.imwrite(path+file, new_img)\n",
    "        elif h!= 2560 and h!= 1440:\n",
    "            os.remove(path+file)\n",
    "            print(f'{file} removed')"
   ]
  },
  {
   "cell_type": "code",
   "execution_count": 23,
   "metadata": {},
   "outputs": [
    {
     "name": "stdout",
     "output_type": "stream",
     "text": [
      "636\n"
     ]
    }
   ],
   "source": [
    "# image rename\n",
    "cnt = 1\n",
    "for file in image_list:\n",
    "        img = cv2.imread(image_path + file)\n",
    "        os.remove(image_path + file)\n",
    "        cv2.imwrite(image_path + str(cnt) + \".jpg\", img)\n",
    "        cnt += 1\n",
    "print(cnt)"
   ]
  },
  {
   "cell_type": "code",
   "execution_count": 24,
   "metadata": {},
   "outputs": [],
   "source": [
    "cnt = 1\n",
    "for file in mask_list:\n",
    "        img = cv2.imread(mask_path + file)\n",
    "        os.remove(mask_path + file)\n",
    "        cv2.imwrite(mask_path + str(cnt) + \"_mask.png\", img)\n",
    "        cnt += 1"
   ]
  },
  {
   "cell_type": "code",
   "execution_count": null,
   "metadata": {},
   "outputs": [],
   "source": [
    "for file in mask_list:\n",
    "    if file.endswith(\".PNG\"):\n",
    "        img = cv2.imread(mask_path + file)\n",
    "        os.remove(mask_path + file)\n",
    "        cv2.imwrite(mask_path + file.split(\".\")[0]+\".png\",img)"
   ]
  }
 ],
 "metadata": {
  "kernelspec": {
   "display_name": "Python 3.8.13 ('usePytorch')",
   "language": "python",
   "name": "python3"
  },
  "language_info": {
   "codemirror_mode": {
    "name": "ipython",
    "version": 3
   },
   "file_extension": ".py",
   "mimetype": "text/x-python",
   "name": "python",
   "nbconvert_exporter": "python",
   "pygments_lexer": "ipython3",
   "version": "3.8.13"
  },
  "orig_nbformat": 4,
  "vscode": {
   "interpreter": {
    "hash": "d67afed350c528055f2528b65dcee38560ce04848f0ceec4c78743b97b05f9fe"
   }
  }
 },
 "nbformat": 4,
 "nbformat_minor": 2
}
